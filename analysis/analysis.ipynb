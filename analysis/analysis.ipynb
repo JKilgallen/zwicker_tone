{
 "cells": [
  {
   "attachments": {},
   "cell_type": "markdown",
   "metadata": {},
   "source": [
    "# Zwicker Tone\n",
    "The purpose of this notebook is to generate audio files capable of demonstrating the auditory illusion known as the Zwicker Tone as outlined in the article “Negative Afterimage” in Hearing from The Journal of the Acoustical Society of America (1964)."
   ]
  },
  {
   "attachments": {},
   "cell_type": "markdown",
   "metadata": {},
   "source": [
    "## Tools\n",
    "To create the audio files several packages will be needed primarily `numpy` for generating white-noise signals and performing a Fourier transform, and `wav` for converting the numerical data into an audio file."
   ]
  },
  {
   "cell_type": "code",
   "execution_count": null,
   "metadata": {},
   "outputs": [],
   "source": []
  }
 ],
 "metadata": {
  "kernelspec": {
   "display_name": "Python 3",
   "language": "python",
   "name": "python3"
  },
  "language_info": {
   "name": "python",
   "version": "3.10.7"
  },
  "orig_nbformat": 4,
  "vscode": {
   "interpreter": {
    "hash": "916dbcbb3f70747c44a77c7bcd40155683ae19c65e1c03b4aa3499c5328201f1"
   }
  }
 },
 "nbformat": 4,
 "nbformat_minor": 2
}
